{
 "cells": [
  {
   "cell_type": "code",
   "execution_count": null,
   "metadata": {},
   "outputs": [],
   "source": []
  },
  {
   "cell_type": "code",
   "execution_count": null,
   "metadata": {},
   "outputs": [],
   "source": [
    "import finnhub\n",
    "import pandas as pd\n",
    "\n",
    "finnhub_client = finnhub.Client(\n",
    "    api_key=\"cujft39r01qm7p9o29jgcujft39r01qm7p9o29k0\")\n",
    "\n",
    "value = finnhub_client.stock_symbols('US')\n",
    "df = pd.DataFrame(value)\n",
    "print(df[\"symbol\"])"
   ]
  },
  {
   "cell_type": "code",
   "execution_count": 42,
   "metadata": {},
   "outputs": [
    {
     "name": "stdout",
     "output_type": "stream",
     "text": [
      "Series([], Name: symbol, dtype: object)\n"
     ]
    }
   ],
   "source": [
    "series = df[\"symbol\"]\n",
    "search_term = \"BINANCE:BTCUSDT\"\n",
    "# search_term = \"GOOGL\"\n",
    "search_terms = ['GOOGL', 'AMZN', 'AAPL', 'T', 'DELL', 'HPQ', 'INTC', 'META', 'MSFT', 'NVDA']\n",
    "case_insensitive_matches = series[series.str.contains(search_term, case=False, na=False)]\n",
    "# case_insensitive_matches = series[series.isin(search_terms)]\n",
    "print(case_insensitive_matches)"
   ]
  },
  {
   "cell_type": "code",
   "execution_count": 43,
   "metadata": {},
   "outputs": [
    {
     "name": "stdout",
     "output_type": "stream",
     "text": [
      "{'count': 1, 'result': [{'description': 'Binance BTC/USDT', 'displaySymbol': 'BTC/USDT', 'symbol': 'BINANCE:BTCUSDT', 'type': 'Crypto'}]}\n"
     ]
    }
   ],
   "source": [
    "print(finnhub_client.symbol_lookup(\"BINANCE:BTCUSDT\"))"
   ]
  },
  {
   "cell_type": "code",
   "execution_count": null,
   "metadata": {},
   "outputs": [],
   "source": [
    "value = finnhub_client.crypto_symbols('BINANCE')\n",
    "print(value)"
   ]
  },
  {
   "cell_type": "code",
   "execution_count": 65,
   "metadata": {},
   "outputs": [
    {
     "name": "stdout",
     "output_type": "stream",
     "text": [
      "['BINANCE:BTCUSDS', 'BINANCE:BTCUSDP', 'BINANCE:WBTCUSDT', 'BINANCE:BTCUSDT', 'BINANCE:BTCUSDC']\n"
     ]
    }
   ],
   "source": [
    "df = pd.DataFrame(value)\n",
    "search_term = 'BTCUSD'\n",
    "result = df[\"symbol\"][df[\"symbol\"].str.contains(search_term, case=False, na=False)]\n",
    "print(result.to_list())"
   ]
  },
  {
   "cell_type": "code",
   "execution_count": null,
   "metadata": {},
   "outputs": [],
   "source": [
    "#https://pypi.org/project/websocket_client/\n",
    "import json\n",
    "import websocket\n",
    "import traceback\n",
    "\n",
    "\n",
    "class Test:\n",
    "  def __init__(self):\n",
    "     self.message_count = 0\n",
    "\n",
    "  def set_tickers(self, tickers):\n",
    "     self.tickers = tickers\n",
    "\n",
    "  def append_to_file(filepath, text):\n",
    "    \"\"\"Appends text to a file. Creates the file if it doesn't exist.\"\"\"\n",
    "    try:\n",
    "        with open(filepath, 'a') as f:  # 'a' mode for appending\n",
    "            f.write(text)\n",
    "    except Exception as e:\n",
    "        print(f\"An error occurred: {e}\")\n",
    "\n",
    "  def on_message(self, ws, message):\n",
    "      # data = json.load(message)\n",
    "      data = dict(json.loads(message))\n",
    "      # if(data && data)\n",
    "      if(\"data\" in data.keys()):\n",
    "         print(data[\"data\"][0][\"s\"])\n",
    "      print(\"*\"*20)\n",
    "      print(f\"Message: {data}\")\n",
    "      print(\"*\"*20)\n",
    "      # print(data)\n",
    "      # self.message_count += 1\n",
    "      ws.close()\n",
    "      # if(self.message_count >= 1):\n",
    "      # print(\"----------------------------------------------------\")\n",
    "\n",
    "\n",
    "  def on_error(self, ws, error):\n",
    "      traceback.print_exc()\n",
    "      raise error\n",
    "\n",
    "  def on_close(self, ws, close_status_code, close_msg):\n",
    "      traceback.print_exc()\n",
    "      print(\"### closed ###\")\n",
    "\n",
    "  def on_open(self, ws):\n",
    "     for ticker in self.tickers:\n",
    "        ws.send(f'{{\"type\":\"subscribe\", \"symbol\":\"{ticker}\"}}')\n",
    "\n",
    "  def run_websocket(self, tickers):\n",
    "    self.message_count = 0\n",
    "    self.set_tickers(tickers)\n",
    "    websocket.enableTrace(True)\n",
    "    ws = websocket.WebSocketApp(\"wss://ws.finnhub.io?token=cujft39r01qm7p9o29jgcujft39r01qm7p9o29k0\",\n",
    "                              on_message = self.on_message,\n",
    "                              on_error = self.on_error,\n",
    "                              on_close = self.on_close)\n",
    "    ws.on_open = self.on_open\n",
    "    ws.run_forever()\n",
    "\n",
    "if __name__ == \"__main__\":\n",
    "  test = Test()\n",
    "  tickers = ['BINANCE:BTCUSDT', 'BINANCE:ETHUSDC', 'BINANCE:ETHUSDP', 'BINANCE:ETHUSDT', 'BINANCE:BTCUSDC']\n",
    "  test.run_websocket(tickers)\n"
   ]
  }
 ],
 "metadata": {
  "kernelspec": {
   "display_name": "finnhubDPL",
   "language": "python",
   "name": "python3"
  },
  "language_info": {
   "codemirror_mode": {
    "name": "ipython",
    "version": 3
   },
   "file_extension": ".py",
   "mimetype": "text/x-python",
   "name": "python",
   "nbconvert_exporter": "python",
   "pygments_lexer": "ipython3",
   "version": "3.13.1"
  }
 },
 "nbformat": 4,
 "nbformat_minor": 2
}
